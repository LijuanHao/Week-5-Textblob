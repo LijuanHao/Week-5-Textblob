{
 "cells": [
  {
   "cell_type": "code",
   "execution_count": 11,
   "id": "9a1dc956",
   "metadata": {},
   "outputs": [
    {
     "ename": "ModuleNotFoundError",
     "evalue": "No module named 'flask'",
     "output_type": "error",
     "traceback": [
      "\u001b[0;31m---------------------------------------------------------------------------\u001b[0m",
      "\u001b[0;31mModuleNotFoundError\u001b[0m                       Traceback (most recent call last)",
      "Cell \u001b[0;32mIn[11], line 1\u001b[0m\n\u001b[0;32m----> 1\u001b[0m \u001b[38;5;28;01mfrom\u001b[39;00m \u001b[38;5;21;01mflask\u001b[39;00m \u001b[38;5;28;01mimport\u001b[39;00m Flask,render_template,request\n\u001b[1;32m      2\u001b[0m \u001b[38;5;28;01mfrom\u001b[39;00m \u001b[38;5;21;01mtextblob\u001b[39;00m \u001b[38;5;28;01mimport\u001b[39;00m TextBlob\n\u001b[1;32m      3\u001b[0m \u001b[38;5;28;01mimport\u001b[39;00m \u001b[38;5;21;01mgoogle\u001b[39;00m\u001b[38;5;21;01m.\u001b[39;00m\u001b[38;5;21;01mgenerativeai\u001b[39;00m \u001b[38;5;28;01mas\u001b[39;00m \u001b[38;5;21;01mpalm\u001b[39;00m\n",
      "\u001b[0;31mModuleNotFoundError\u001b[0m: No module named 'flask'"
     ]
    }
   ],
   "source": [
    "from flask import Flask,render_template,request\n",
    "from textblob import TextBlob\n",
    "import google.generativeai as palm\n",
    "import os\n",
    "import textblob\n",
    "\n",
    "api = os.getenv(\"MAKERSUITE_API_TOKEN\")\n",
    "model = {\"model\":\"models/text-bison-001\"}\n",
    "palm.configure(api_key=api)\n",
    "\n",
    "app = Flask(__name__)\n",
    "\n",
    "@app.route(\"/\",methods=[\"GET\",\"POST\"])\n",
    "def index():\n",
    "    return(render_template(\"index.html\"))\n",
    "\n",
    "@app.route(\"/main\",methods=[\"GET\",\"POST\"])\n",
    "def main():\n",
    "    q = request.form.get(\"q\")\n",
    "    return(render_template(\"main.html\",r=q))\n",
    "\n",
    "@app.route(\"/makersuite\",methods=[\"GET\",\"POST\"])\n",
    "def makersuite():\n",
    "    return(render_template(\"makersuite.html\"))\n",
    "\n",
    "@app.route(\"/makersuite_1\",methods=[\"GET\",\"POST\"])\n",
    "def makersuite_1():\n",
    "    q = \"Can you help me prepare my tax return?\"\n",
    "    r = palm.generate_text(**model, prompt=q)\n",
    "    return(render_template(\"makersuite_1_reply.html\",r=r.result))\n",
    "\n",
    "@app.route(\"/makersuite_gen\",methods=[\"GET\",\"POST\"])\n",
    "def makersuite_gen():\n",
    "    q = request.form.get(\"q\")\n",
    "    r = palm.generate_text(**model, prompt=q)\n",
    "    return(render_template(\"makersuite_gen_reply.html\",r=r.result))\n",
    "\n",
    "@app.route(\"/textblob\",methods=[\"GET\",\"POST\"])\n",
    "def textblob():\n",
    "    text = request.form.get(\"text\")\n",
    "    r = textblob(**model, prompt=q).sentiment\n",
    "    return(render_template(\"textblob.html\",r=r.result))\n",
    "\n",
    "\n",
    "\n",
    "if __name__ == \"__main__\":\n",
    "    app.run()"
   ]
  },
  {
   "cell_type": "code",
   "execution_count": null,
   "id": "91319d1e-348a-4c7d-ad9e-dcece548afaa",
   "metadata": {},
   "outputs": [],
   "source": []
  }
 ],
 "metadata": {
  "kernelspec": {
   "display_name": "Python 3 (ipykernel)",
   "language": "python",
   "name": "python3"
  },
  "language_info": {
   "codemirror_mode": {
    "name": "ipython",
    "version": 3
   },
   "file_extension": ".py",
   "mimetype": "text/x-python",
   "name": "python",
   "nbconvert_exporter": "python",
   "pygments_lexer": "ipython3",
   "version": "3.9.6"
  }
 },
 "nbformat": 4,
 "nbformat_minor": 5
}
