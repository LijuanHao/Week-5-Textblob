{
 "cells": [
  {
   "cell_type": "code",
   "execution_count": 1,
   "id": "9a1dc956",
   "metadata": {},
   "outputs": [
    {
     "ename": "ModuleNotFoundError",
     "evalue": "No module named 'flask'",
     "output_type": "error",
     "traceback": [
      "\u001b[0;31m---------------------------------------------------------------------------\u001b[0m",
      "\u001b[0;31mModuleNotFoundError\u001b[0m                       Traceback (most recent call last)",
      "Cell \u001b[0;32mIn[1], line 1\u001b[0m\n\u001b[0;32m----> 1\u001b[0m \u001b[38;5;28;01mfrom\u001b[39;00m \u001b[38;5;21;01mflask\u001b[39;00m \u001b[38;5;28;01mimport\u001b[39;00m Flask,render_template,request\n\u001b[1;32m      2\u001b[0m \u001b[38;5;28;01mfrom\u001b[39;00m \u001b[38;5;21;01mtextblob\u001b[39;00m \u001b[38;5;28;01mimport\u001b[39;00m TextBlob\n\u001b[1;32m      3\u001b[0m \u001b[38;5;28;01mimport\u001b[39;00m \u001b[38;5;21;01mgoogle\u001b[39;00m\u001b[38;5;21;01m.\u001b[39;00m\u001b[38;5;21;01mgenerativeai\u001b[39;00m \u001b[38;5;28;01mas\u001b[39;00m \u001b[38;5;21;01mpalm\u001b[39;00m\n",
      "\u001b[0;31mModuleNotFoundError\u001b[0m: No module named 'flask'"
     ]
    },
    {
     "name": "stderr",
     "output_type": "stream",
     "text": [
      "Bad pipe message: %s [b'0.9,image/avif,image/webp,image/apng,*/*;q=0.8,application/signed-exchange;v=b3;q=0.7\\r\\nHost: localhost:43163\\r\\nUs', b'-Agent: Mozilla/5.0 (Macintosh; Intel Mac OS X 10_15_7) AppleWebKit/537.36 (KHTML, like Gecko) Chrom']\n",
      "Bad pipe message: %s [b'127.0.0.0 Safari/537.36\\r\\nAccept-Encoding: gzip, deflate, br, zstd\\r\\nAccept-Language: zh-CN,zh;q=0.9\\r\\n', b'che-Control: max-age=0\\r\\nReferer: https://redesigned-space-cod-v6g9', b'v9jp9rfpw7g.github.dev/\\r\\nX-Request-ID: 922b455389aa02eb7fc33b3d9278e2d7\\r\\nX-Real-IP: 10.240.1.166\\r\\nX-Forwarded-Po', b': 443\\r\\nX-Forwarded-Scheme: https\\r\\nX-Original-URI: /\\r\\nX-Scheme: https\\r\\nsec-fetch-site: same-site\\r\\nsec-fetch-mode: ']\n",
      "Bad pipe message: %s [b'vigate\\r\\nsec-fetch-dest: document\\r\\nsec-ch-ua: \"Not)A;Brand\";v=\"99\", \"Google Chrome\";v=\"127\", \"Chromium\";v=\"127', b'\\nsec-ch-ua-mobile: ?0\\r\\nsec-ch-ua-', b'atform: \"macOS\"\\r\\npriority: u=0, i\\r\\nX-Original-Proto: https\\r\\nX-Forwarded-Proto: https\\r\\nX-Forwarded-Host: redesig']\n"
     ]
    }
   ],
   "source": [
    "from flask import Flask,render_template,request\n",
    "from textblob import TextBlob\n",
    "import google.generativeai as palm\n",
    "import os\n",
    "\n",
    "api = os.getenv(\"MAKERSUITE_API_TOKEN\")\n",
    "model = {\"model\":\"models/text-bison-001\"}\n",
    "palm.configure(api_key=api)\n",
    "\n",
    "app = Flask(__name__)\n",
    "\n",
    "@app.route(\"/\",methods=[\"GET\",\"POST\"])\n",
    "def index():\n",
    "    return(render_template(\"index.html\"))\n",
    "\n",
    "@app.route(\"/main\",methods=[\"GET\",\"POST\"])\n",
    "def main():\n",
    "    q = request.form.get(\"q\")\n",
    "    return(render_template(\"main.html\",r=q))\n",
    "\n",
    "@app.route(\"/makersuite\",methods=[\"GET\",\"POST\"])\n",
    "def makersuite():\n",
    "    return(render_template(\"makersuite.html\"))\n",
    "\n",
    "@app.route(\"/makersuite_1\",methods=[\"GET\",\"POST\"])\n",
    "def makersuite_1():\n",
    "    q = \"Can you help me prepare my tax return?\"\n",
    "    r = palm.generate_text(**model, prompt=q)\n",
    "    return(render_template(\"makersuite_1_reply.html\",r=r.result))\n",
    "\n",
    "@app.route(\"/makersuite_gen\",methods=[\"GET\",\"POST\"])\n",
    "def makersuite_gen():\n",
    "    q = request.form.get(\"q\")\n",
    "    r = palm.generate_text(**model, prompt=q)\n",
    "    return(render_template(\"makersuite_gen_reply.html\",r=r.result))\n",
    "\n",
    "@app.route(\"/\", methods=[\"GET\", \"POST\"])\n",
    "def index():\n",
    "    if request.method == \"POST\":\n",
    "        text = request.form.get(\"text\")\n",
    "        print(text)\n",
    "        r = TextBlob(text).sentiment\n",
    "        return(render_template(\"index.html\", result=r))\n",
    "    else:\n",
    "        return(render_template(\"index.html\", result=\"2\"))\n",
    "\n",
    "if __name__ == \"__main__\":\n",
    "    app.run()"
   ]
  },
  {
   "cell_type": "code",
   "execution_count": null,
   "id": "91319d1e-348a-4c7d-ad9e-dcece548afaa",
   "metadata": {},
   "outputs": [],
   "source": []
  }
 ],
 "metadata": {
  "kernelspec": {
   "display_name": "Python 3 (ipykernel)",
   "language": "python",
   "name": "python3"
  },
  "language_info": {
   "codemirror_mode": {
    "name": "ipython",
    "version": 3
   },
   "file_extension": ".py",
   "mimetype": "text/x-python",
   "name": "python",
   "nbconvert_exporter": "python",
   "pygments_lexer": "ipython3",
   "version": "3.12.1"
  }
 },
 "nbformat": 4,
 "nbformat_minor": 5
}
