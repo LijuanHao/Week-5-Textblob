{
 "cells": [
  {
   "cell_type": "code",
   "execution_count": 4,
   "id": "9a1dc956",
   "metadata": {},
   "outputs": [
    {
     "ename": "SyntaxError",
     "evalue": "invalid syntax (2422014323.py, line 1)",
     "output_type": "error",
     "traceback": [
      "\u001b[0;36m  Cell \u001b[0;32mIn[4], line 1\u001b[0;36m\u001b[0m\n\u001b[0;31m    pip install flask, textblob, google.generativeai\u001b[0m\n\u001b[0m        ^\u001b[0m\n\u001b[0;31mSyntaxError\u001b[0m\u001b[0;31m:\u001b[0m invalid syntax\n"
     ]
    }
   ],
   "source": [
    "\n",
    "from flask import Flask\n",
    "from textblob import TextBlob\n",
    "import google.generativeai as palm\n",
    "import os\n",
    "\n",
    "api = os.getenv(\"MAKERSUITE_API_TOKEN\")\n",
    "model = {\"model\":\"models/text-bison-001\"}\n",
    "palm.configure(api_key=api)\n",
    "\n",
    "app = Flask(__name__)\n",
    "from flask import render_template,request\n",
    "\n",
    "@app.route(\"/\",methods=[\"GET\",\"POST\"])\n",
    "def index():\n",
    "    return(render_template(\"index.html\"))\n",
    "\n",
    "@app.route(\"/main\",methods=[\"GET\",\"POST\"])\n",
    "def main():\n",
    "    q = request.form.get(\"q\")\n",
    "    return(render_template(\"main.html\",r=q))\n",
    "\n",
    "@app.route(\"/makersuite\",methods=[\"GET\",\"POST\"])\n",
    "def makersuite():\n",
    "    return(render_template(\"makersuite.html\"))\n",
    "\n",
    "@app.route(\"/makersuite_1\",methods=[\"GET\",\"POST\"])\n",
    "def makersuite_1():\n",
    "    q = \"Can you help me prepare my tax return?\"\n",
    "    r = palm.generate_text(**model, prompt=q)\n",
    "    return(render_template(\"makersuite_1_reply.html\",r=r.result))\n",
    "\n",
    "@app.route(\"/makersuite_gen\",methods=[\"GET\",\"POST\"])\n",
    "def makersuite_gen():\n",
    "    q = request.form.get(\"q\")\n",
    "    r = palm.generate_text(**model, prompt=q)\n",
    "    return(render_template(\"makersuite_gen_reply.html\",r=r.result))\n",
    "\n",
    "@app.route(\"/\", methods=[\"GET\", \"POST\"])\n",
    "def index():\n",
    "    if request.method == \"POST\":\n",
    "        text = request.form.get(\"text\")\n",
    "        print(text)\n",
    "        r = TextBlob(text).sentiment\n",
    "        return(render_template(\"index.html\", result=r))\n",
    "    else:\n",
    "        return(render_template(\"index.html\", result=\"2\"))\n",
    "\n",
    "if __name__ == \"__main__\":\n",
    "    app.run()"
   ]
  },
  {
   "cell_type": "code",
   "execution_count": null,
   "id": "91319d1e-348a-4c7d-ad9e-dcece548afaa",
   "metadata": {},
   "outputs": [],
   "source": []
  }
 ],
 "metadata": {
  "kernelspec": {
   "display_name": "Python 3 (ipykernel)",
   "language": "python",
   "name": "python3"
  },
  "language_info": {
   "codemirror_mode": {
    "name": "ipython",
    "version": 3
   },
   "file_extension": ".py",
   "mimetype": "text/x-python",
   "name": "python",
   "nbconvert_exporter": "python",
   "pygments_lexer": "ipython3",
   "version": "3.12.1"
  }
 },
 "nbformat": 4,
 "nbformat_minor": 5
}
